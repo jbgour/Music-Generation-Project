{
  "nbformat": 4,
  "nbformat_minor": 0,
  "metadata": {
    "colab": {
      "name": "music-generation-colab.ipynb",
      "provenance": [],
      "collapsed_sections": [],
      "include_colab_link": true
    },
    "kernelspec": {
      "name": "python3",
      "display_name": "Python 3"
    },
    "accelerator": "GPU"
  },
  "cells": [
    {
      "cell_type": "markdown",
      "metadata": {
        "id": "view-in-github",
        "colab_type": "text"
      },
      "source": [
        "<a href=\"https://colab.research.google.com/github/jbgour/Music-Generation-Project/blob/main/music_generation_colab.ipynb\" target=\"_parent\"><img src=\"https://colab.research.google.com/assets/colab-badge.svg\" alt=\"Open In Colab\"/></a>"
      ]
    },
    {
      "cell_type": "code",
      "metadata": {
        "colab": {
          "base_uri": "https://localhost:8080/"
        },
        "id": "URuyVOWareOi",
        "outputId": "019d0113-40a7-4535-d371-1efb27e1c2bd"
      },
      "source": [
        "from google.colab import drive\n",
        "drive.mount('/content/drive/')"
      ],
      "execution_count": 43,
      "outputs": [
        {
          "output_type": "stream",
          "text": [
            "Drive already mounted at /content/drive/; to attempt to forcibly remount, call drive.mount(\"/content/drive/\", force_remount=True).\n"
          ],
          "name": "stdout"
        }
      ]
    },
    {
      "cell_type": "markdown",
      "metadata": {
        "id": "kfcdMZW-N_IP"
      },
      "source": [
        "créé un dossier music-generation-colab dans ton gg drive et mets y le dossier data"
      ]
    },
    {
      "cell_type": "code",
      "metadata": {
        "colab": {
          "base_uri": "https://localhost:8080/",
          "height": 35
        },
        "id": "92t4Zqe5EtK_",
        "outputId": "1bf8c0df-9bc9-42bc-a248-624b787eafd7"
      },
      "source": [
        "pwd"
      ],
      "execution_count": 44,
      "outputs": [
        {
          "output_type": "execute_result",
          "data": {
            "application/vnd.google.colaboratory.intrinsic+json": {
              "type": "string"
            },
            "text/plain": [
              "'/content/drive/My Drive/music-generation-project/data'"
            ]
          },
          "metadata": {
            "tags": []
          },
          "execution_count": 44
        }
      ]
    },
    {
      "cell_type": "code",
      "metadata": {
        "id": "eJ6Vb_x7EQ0U"
      },
      "source": [
        "import os\n",
        "os.chdir(\"/content/drive/My Drive/music-generation-project\")"
      ],
      "execution_count": 31,
      "outputs": []
    },
    {
      "cell_type": "code",
      "metadata": {
        "id": "nLxMZhScrMbH",
        "colab": {
          "base_uri": "https://localhost:8080/",
          "height": 181
        },
        "outputId": "4241ddcb-a4f4-4f01-d7d2-0b15e783f08b"
      },
      "source": [
        "#import os\n",
        "#os.chdir(\"drive/My Drive/music-generation-colab\")"
      ],
      "execution_count": 2,
      "outputs": [
        {
          "output_type": "error",
          "ename": "FileNotFoundError",
          "evalue": "ignored",
          "traceback": [
            "\u001b[0;31m---------------------------------------------------------------------------\u001b[0m",
            "\u001b[0;31mFileNotFoundError\u001b[0m                         Traceback (most recent call last)",
            "\u001b[0;32m<ipython-input-2-febaf5da2141>\u001b[0m in \u001b[0;36m<module>\u001b[0;34m()\u001b[0m\n\u001b[1;32m      1\u001b[0m \u001b[0;32mimport\u001b[0m \u001b[0mos\u001b[0m\u001b[0;34m\u001b[0m\u001b[0;34m\u001b[0m\u001b[0m\n\u001b[0;32m----> 2\u001b[0;31m \u001b[0mos\u001b[0m\u001b[0;34m.\u001b[0m\u001b[0mchdir\u001b[0m\u001b[0;34m(\u001b[0m\u001b[0;34m\"drive/My Drive/music-generation-colab\"\u001b[0m\u001b[0;34m)\u001b[0m\u001b[0;34m\u001b[0m\u001b[0;34m\u001b[0m\u001b[0m\n\u001b[0m",
            "\u001b[0;31mFileNotFoundError\u001b[0m: [Errno 2] No such file or directory: 'drive/My Drive/music-generation-colab'"
          ]
        }
      ]
    },
    {
      "cell_type": "code",
      "metadata": {
        "id": "wE2ka-_XnB2Z"
      },
      "source": [
        "import pandas as pd\n",
        "import numpy\n",
        "from keras.models import Sequential\n",
        "from keras.layers import Dense\n",
        "from keras.layers import Dropout\n",
        "from keras.layers import LSTM\n",
        "from keras.layers import Activation\n",
        "from keras.layers import BatchNormalization as BatchNorm\n",
        "from keras.utils import np_utils\n",
        "from keras.callbacks import ModelCheckpoint\n",
        "\n",
        "\n",
        "def prepare_sequences(notes, n_vocab, sequence_length = 100):\n",
        "    \"\"\" Prepare the sequences used by the Neural Network \"\"\"\n",
        "    sequence_length = sequence_length\n",
        "\n",
        "    # get all pitch names\n",
        "    pitchnames = sorted(set(item for item in notes))\n",
        "\n",
        "    # create a dictionary to map pitches to integers\n",
        "    note_to_int = dict((note, number)\n",
        "                       for number, note in enumerate(pitchnames))\n",
        "\n",
        "    network_input = []\n",
        "    network_output = []\n",
        "\n",
        "    # create input sequences and the corresponding outputs\n",
        "    for i in range(0, len(notes) - sequence_length, 1):\n",
        "        sequence_in = notes[i:i + sequence_length]\n",
        "        sequence_out = notes[i + sequence_length]\n",
        "        network_input.append([note_to_int[char] for char in sequence_in])\n",
        "        network_output.append(note_to_int[sequence_out])\n",
        "\n",
        "    n_patterns = len(network_input)\n",
        "\n",
        "    # reshape the input into a format compatible with LSTM layers\n",
        "    network_input = numpy.reshape(\n",
        "        network_input, (n_patterns, sequence_length, 1))\n",
        "    # normalize input\n",
        "    network_input = network_input / float(n_vocab)\n",
        "\n",
        "    network_output = np_utils.to_categorical(network_output)\n",
        "\n",
        "    return (network_input, network_output)\n",
        "\n",
        "\n",
        "def create_network(network_input, n_vocab):\n",
        "    \"\"\" create the structure of the neural network \"\"\"\n",
        "    model = Sequential()\n",
        "    model.add(LSTM(\n",
        "        256,\n",
        "        input_shape=(network_input.shape[1], network_input.shape[2]),\n",
        "        recurrent_dropout=0.3,\n",
        "        return_sequences=True\n",
        "    ))\n",
        "    model.add(LSTM(512, return_sequences=True))\n",
        "    model.add(Dropout(0.3))\n",
        "    model.add(LSTM(256))\n",
        "    model.add(Dense(256))\n",
        "    model.add(Dropout(0.3))\n",
        "    model.add(Dense(n_vocab))\n",
        "    model.add(Activation('softmax'))\n",
        "    model.compile(loss='categorical_crossentropy', optimizer='rmsprop')\n",
        "\n",
        "    return model\n",
        "\n",
        "\n",
        "def train(model, network_input, network_output, epochs=2, batch_size=128):\n",
        "    \"\"\" train the neural network \"\"\"\n",
        "    filepath = \"weights-improvement-{epoch:02d}-{loss:.4f}-bigger.hdf5\"\n",
        "    checkpoint = ModelCheckpoint(\n",
        "        filepath,\n",
        "        monitor='loss',\n",
        "        verbose=0,\n",
        "        save_best_only=True,\n",
        "        mode='min'\n",
        "    )\n",
        "    callbacks_list = [checkpoint]\n",
        "\n",
        "    model.fit(network_input, network_output, epochs=epochs,\n",
        "              batch_size=batch_size, callbacks=callbacks_list)\n",
        "\n",
        "\n"
      ],
      "execution_count": 14,
      "outputs": []
    },
    {
      "cell_type": "code",
      "metadata": {
        "colab": {
          "base_uri": "https://localhost:8080/"
        },
        "id": "aELJ7BaWL1yB",
        "outputId": "86855776-f465-4529-f378-8ea758ab382f"
      },
      "source": [
        "cd .."
      ],
      "execution_count": 45,
      "outputs": [
        {
          "output_type": "stream",
          "text": [
            "/content/drive/My Drive/music-generation-project\n"
          ],
          "name": "stdout"
        }
      ]
    },
    {
      "cell_type": "code",
      "metadata": {
        "colab": {
          "base_uri": "https://localhost:8080/"
        },
        "id": "GoJxg_5cOKs0",
        "outputId": "8d655154-0f9b-43f5-aa81-85ff541d300d"
      },
      "source": [
        "ls"
      ],
      "execution_count": 46,
      "outputs": [
        {
          "output_type": "stream",
          "text": [
            "\u001b[0m\u001b[01;34mdata\u001b[0m/  music-generation-colab.ipynb\n"
          ],
          "name": "stdout"
        }
      ]
    },
    {
      "cell_type": "code",
      "metadata": {
        "id": "mxKpnR3Qp5rx"
      },
      "source": [
        "notes = []\n",
        "log = []\n",
        "\n",
        "annees = [2009]\n",
        "notes_source = []\n",
        "for x in annees:\n",
        "    notesAnnees = pd.read_pickle(r'data/results/notes_' + str(x))\n",
        "    notes_source += notesAnnees\n",
        "notes_source = notes_source[0:1000]\n"
      ],
      "execution_count": 91,
      "outputs": []
    },
    {
      "cell_type": "markdown",
      "metadata": {
        "id": "fT1gV8xzsHTz"
      },
      "source": [
        "# test avec entrée = alternance de 2 notes\n"
      ]
    },
    {
      "cell_type": "code",
      "metadata": {
        "colab": {
          "base_uri": "https://localhost:8080/"
        },
        "id": "tFZnpHSmsH-I",
        "outputId": "2ea0d101-4f7b-4bf0-dbc8-18ffc98405b7"
      },
      "source": [
        "notes = notes_source\n",
        "n_vocab = len(set(notes))\n",
        "print(notes[0:10])"
      ],
      "execution_count": 92,
      "outputs": [
        {
          "output_type": "stream",
          "text": [
            "['F#3', 'E4.C#4', 'A4.A5.C#5', 'A3', 'C#3', 'E3', 'F#1', 'G#3', 'A1', 'F#1']\n"
          ],
          "name": "stdout"
        }
      ]
    },
    {
      "cell_type": "code",
      "metadata": {
        "colab": {
          "base_uri": "https://localhost:8080/"
        },
        "id": "SamQtEX7sMQX",
        "outputId": "46517698-6e32-46ae-f608-56ef26a61f82"
      },
      "source": [
        "print('creating inputs')\n",
        "network_input, network_output = prepare_sequences(notes, n_vocab, sequence_length=10)\n",
        "\n",
        "\n",
        "print('creating model for training')\n",
        "model = create_network(network_input, n_vocab)\n",
        "\n",
        "print('training model')\n",
        "train(model, network_input, network_output,epochs=100, batch_size=128)\n",
        "\n",
        "print('model trained')"
      ],
      "execution_count": 93,
      "outputs": [
        {
          "output_type": "stream",
          "text": [
            "creating inputs\n",
            "creating model for training\n",
            "WARNING:tensorflow:Layer lstm_3 will not use cuDNN kernel since it doesn't meet the cuDNN kernel criteria. It will use generic GPU kernel as fallback when running on GPU\n",
            "training model\n",
            "Epoch 1/100\n",
            "8/8 [==============================] - 4s 50ms/step - loss: 4.8707\n",
            "Epoch 2/100\n",
            "8/8 [==============================] - 0s 42ms/step - loss: 4.4427\n",
            "Epoch 3/100\n",
            "8/8 [==============================] - 0s 41ms/step - loss: 4.3875\n",
            "Epoch 4/100\n",
            "8/8 [==============================] - 0s 46ms/step - loss: 4.3850\n",
            "Epoch 5/100\n",
            "8/8 [==============================] - 0s 41ms/step - loss: 4.3765\n",
            "Epoch 6/100\n",
            "8/8 [==============================] - 0s 45ms/step - loss: 4.3691\n",
            "Epoch 7/100\n",
            "8/8 [==============================] - 0s 41ms/step - loss: 4.3317\n",
            "Epoch 8/100\n",
            "8/8 [==============================] - 0s 46ms/step - loss: 4.3584\n",
            "Epoch 9/100\n",
            "8/8 [==============================] - 0s 39ms/step - loss: 4.2722\n",
            "Epoch 10/100\n",
            "8/8 [==============================] - 0s 43ms/step - loss: 4.2286\n",
            "Epoch 11/100\n",
            "8/8 [==============================] - 0s 39ms/step - loss: 4.3827\n",
            "Epoch 12/100\n",
            "8/8 [==============================] - 0s 38ms/step - loss: 4.1862\n",
            "Epoch 13/100\n",
            "8/8 [==============================] - 0s 41ms/step - loss: 4.1473\n",
            "Epoch 14/100\n",
            "8/8 [==============================] - 0s 38ms/step - loss: 4.1316\n",
            "Epoch 15/100\n",
            "8/8 [==============================] - 0s 46ms/step - loss: 4.1458\n",
            "Epoch 16/100\n",
            "8/8 [==============================] - 0s 38ms/step - loss: 4.0878\n",
            "Epoch 17/100\n",
            "8/8 [==============================] - 0s 38ms/step - loss: 4.0710\n",
            "Epoch 18/100\n",
            "8/8 [==============================] - 0s 39ms/step - loss: 4.0493\n",
            "Epoch 19/100\n",
            "8/8 [==============================] - 0s 38ms/step - loss: 4.0071\n",
            "Epoch 20/100\n",
            "8/8 [==============================] - 0s 42ms/step - loss: 3.9890\n",
            "Epoch 21/100\n",
            "8/8 [==============================] - 0s 39ms/step - loss: 3.9769\n",
            "Epoch 22/100\n",
            "8/8 [==============================] - 0s 41ms/step - loss: 4.0142\n",
            "Epoch 23/100\n",
            "8/8 [==============================] - 0s 40ms/step - loss: 3.8966\n",
            "Epoch 24/100\n",
            "8/8 [==============================] - 0s 43ms/step - loss: 3.9255\n",
            "Epoch 25/100\n",
            "8/8 [==============================] - 0s 44ms/step - loss: 3.8521\n",
            "Epoch 26/100\n",
            "8/8 [==============================] - 1s 69ms/step - loss: 3.9028\n",
            "Epoch 27/100\n",
            "8/8 [==============================] - 1s 71ms/step - loss: 3.9022\n",
            "Epoch 28/100\n",
            "8/8 [==============================] - 1s 70ms/step - loss: 3.8625\n",
            "Epoch 29/100\n",
            "8/8 [==============================] - 1s 65ms/step - loss: 3.8020\n",
            "Epoch 30/100\n",
            "8/8 [==============================] - 1s 63ms/step - loss: 3.7058\n",
            "Epoch 31/100\n",
            "8/8 [==============================] - 0s 51ms/step - loss: 3.6957\n",
            "Epoch 32/100\n",
            "8/8 [==============================] - 0s 48ms/step - loss: 3.7971\n",
            "Epoch 33/100\n",
            "8/8 [==============================] - 0s 54ms/step - loss: 3.6893\n",
            "Epoch 34/100\n",
            "8/8 [==============================] - 0s 46ms/step - loss: 3.5945\n",
            "Epoch 35/100\n",
            "8/8 [==============================] - 0s 51ms/step - loss: 3.6058\n",
            "Epoch 36/100\n",
            "8/8 [==============================] - 0s 44ms/step - loss: 3.6711\n",
            "Epoch 37/100\n",
            "8/8 [==============================] - 0s 45ms/step - loss: 3.4182\n",
            "Epoch 38/100\n",
            "8/8 [==============================] - 0s 47ms/step - loss: 3.6676\n",
            "Epoch 39/100\n",
            "8/8 [==============================] - 0s 43ms/step - loss: 3.4884\n",
            "Epoch 40/100\n",
            "8/8 [==============================] - 0s 40ms/step - loss: 3.5010\n",
            "Epoch 41/100\n",
            "8/8 [==============================] - 0s 43ms/step - loss: 3.4496\n",
            "Epoch 42/100\n",
            "8/8 [==============================] - 0s 40ms/step - loss: 3.4990\n",
            "Epoch 43/100\n",
            "8/8 [==============================] - 0s 42ms/step - loss: 3.3304\n",
            "Epoch 44/100\n",
            "8/8 [==============================] - 0s 41ms/step - loss: 3.4078\n",
            "Epoch 45/100\n",
            "8/8 [==============================] - 0s 42ms/step - loss: 3.3045\n",
            "Epoch 46/100\n",
            "8/8 [==============================] - 1s 71ms/step - loss: 3.3430\n",
            "Epoch 47/100\n",
            "8/8 [==============================] - 0s 40ms/step - loss: 3.3221\n",
            "Epoch 48/100\n",
            "8/8 [==============================] - 0s 51ms/step - loss: 3.3033\n",
            "Epoch 49/100\n",
            "8/8 [==============================] - 0s 41ms/step - loss: 3.3355\n",
            "Epoch 50/100\n",
            "8/8 [==============================] - 0s 43ms/step - loss: 3.1441\n",
            "Epoch 51/100\n",
            "8/8 [==============================] - 0s 40ms/step - loss: 3.1369\n",
            "Epoch 52/100\n",
            "8/8 [==============================] - 0s 49ms/step - loss: 3.1685\n",
            "Epoch 53/100\n",
            "8/8 [==============================] - 0s 48ms/step - loss: 3.0834\n",
            "Epoch 54/100\n",
            "8/8 [==============================] - 0s 43ms/step - loss: 3.0058\n",
            "Epoch 55/100\n",
            "8/8 [==============================] - 0s 49ms/step - loss: 3.0654\n",
            "Epoch 56/100\n",
            "8/8 [==============================] - 0s 45ms/step - loss: 3.0400\n",
            "Epoch 57/100\n",
            "8/8 [==============================] - 0s 49ms/step - loss: 3.0137\n",
            "Epoch 58/100\n",
            "8/8 [==============================] - 0s 41ms/step - loss: 2.9330\n",
            "Epoch 59/100\n",
            "8/8 [==============================] - 0s 45ms/step - loss: 3.0143\n",
            "Epoch 60/100\n",
            "8/8 [==============================] - 0s 51ms/step - loss: 2.9377\n",
            "Epoch 61/100\n",
            "8/8 [==============================] - 0s 39ms/step - loss: 2.8940\n",
            "Epoch 62/100\n",
            "8/8 [==============================] - 0s 41ms/step - loss: 3.0340\n",
            "Epoch 63/100\n",
            "8/8 [==============================] - 0s 56ms/step - loss: 2.7893\n",
            "Epoch 64/100\n",
            "8/8 [==============================] - 0s 40ms/step - loss: 2.9391\n",
            "Epoch 65/100\n",
            "8/8 [==============================] - 0s 41ms/step - loss: 2.7546\n",
            "Epoch 66/100\n",
            "8/8 [==============================] - 0s 52ms/step - loss: 2.8069\n",
            "Epoch 67/100\n",
            "8/8 [==============================] - 0s 46ms/step - loss: 2.7142\n",
            "Epoch 68/100\n",
            "8/8 [==============================] - 0s 43ms/step - loss: 2.6757\n",
            "Epoch 69/100\n",
            "8/8 [==============================] - 0s 45ms/step - loss: 2.5913\n",
            "Epoch 70/100\n",
            "8/8 [==============================] - 0s 53ms/step - loss: 2.5830\n",
            "Epoch 71/100\n",
            "8/8 [==============================] - 0s 59ms/step - loss: 2.6311\n",
            "Epoch 72/100\n",
            "8/8 [==============================] - 0s 42ms/step - loss: 2.5481\n",
            "Epoch 73/100\n",
            "8/8 [==============================] - 0s 46ms/step - loss: 2.4167\n",
            "Epoch 74/100\n",
            "8/8 [==============================] - 0s 41ms/step - loss: 2.5324\n",
            "Epoch 75/100\n",
            "8/8 [==============================] - 0s 40ms/step - loss: 2.3262\n",
            "Epoch 76/100\n",
            "8/8 [==============================] - 0s 41ms/step - loss: 2.3286\n",
            "Epoch 77/100\n",
            "8/8 [==============================] - 0s 41ms/step - loss: 2.3875\n",
            "Epoch 78/100\n",
            "8/8 [==============================] - 0s 42ms/step - loss: 2.2476\n",
            "Epoch 79/100\n",
            "8/8 [==============================] - 0s 37ms/step - loss: 2.3725\n",
            "Epoch 80/100\n",
            "8/8 [==============================] - 0s 36ms/step - loss: 2.2315\n",
            "Epoch 81/100\n",
            "8/8 [==============================] - 0s 55ms/step - loss: 2.1388\n",
            "Epoch 82/100\n",
            "8/8 [==============================] - 0s 44ms/step - loss: 2.3551\n",
            "Epoch 83/100\n",
            "8/8 [==============================] - 0s 49ms/step - loss: 2.1380\n",
            "Epoch 84/100\n",
            "8/8 [==============================] - 0s 40ms/step - loss: 2.1713\n",
            "Epoch 85/100\n",
            "8/8 [==============================] - 0s 37ms/step - loss: 2.0063\n",
            "Epoch 86/100\n",
            "8/8 [==============================] - 0s 50ms/step - loss: 2.2673\n",
            "Epoch 87/100\n",
            "8/8 [==============================] - 0s 40ms/step - loss: 2.0275\n",
            "Epoch 88/100\n",
            "8/8 [==============================] - 0s 48ms/step - loss: 1.9440\n",
            "Epoch 89/100\n",
            "8/8 [==============================] - 0s 49ms/step - loss: 1.9092\n",
            "Epoch 90/100\n",
            "8/8 [==============================] - 0s 42ms/step - loss: 1.8013\n",
            "Epoch 91/100\n",
            "8/8 [==============================] - 0s 48ms/step - loss: 2.0128\n",
            "Epoch 92/100\n",
            "8/8 [==============================] - 0s 57ms/step - loss: 1.7877\n",
            "Epoch 93/100\n",
            "8/8 [==============================] - 0s 42ms/step - loss: 1.8245\n",
            "Epoch 94/100\n",
            "8/8 [==============================] - 0s 46ms/step - loss: 1.6945\n",
            "Epoch 95/100\n",
            "8/8 [==============================] - 0s 42ms/step - loss: 1.9899\n",
            "Epoch 96/100\n",
            "8/8 [==============================] - 0s 47ms/step - loss: 1.6164\n",
            "Epoch 97/100\n",
            "8/8 [==============================] - 0s 44ms/step - loss: 2.0191\n",
            "Epoch 98/100\n",
            "8/8 [==============================] - 0s 40ms/step - loss: 1.4866\n",
            "Epoch 99/100\n",
            "8/8 [==============================] - 0s 43ms/step - loss: 1.7129\n",
            "Epoch 100/100\n",
            "8/8 [==============================] - 0s 56ms/step - loss: 1.7389\n",
            "model trained\n"
          ],
          "name": "stdout"
        }
      ]
    },
    {
      "cell_type": "code",
      "metadata": {
        "colab": {
          "base_uri": "https://localhost:8080/"
        },
        "id": "S55uay4bs7UZ",
        "outputId": "a8cce423-f862-4715-f193-517b64f8205f"
      },
      "source": [
        "print('generating notes')\n",
        "start = numpy.random.randint(0, len(network_input)-1)\n",
        "int_to_note = dict((number, note) for number, note in enumerate(set(notes)))\n",
        "pattern = network_input[start]\n",
        "prediction_output = []\n",
        "# generate 10 notes\n",
        "for note_index in range(20):\n",
        "    prediction_input = numpy.reshape(pattern, (1, len(pattern), 1))\n",
        "    prediction = model.predict(prediction_input, verbose=0)\n",
        "    index = numpy.argmax(prediction)\n",
        "    result = int_to_note[index]\n",
        "    prediction_output.append(result)\n",
        "    pattern = numpy.append(pattern,index/ float(n_vocab))\n",
        "    pattern = pattern[1:len(pattern)]\n",
        "    \n",
        "print(prediction_output)"
      ],
      "execution_count": 94,
      "outputs": [
        {
          "output_type": "stream",
          "text": [
            "generating notes\n",
            "['F#5', 'G#5', 'C4', 'G5.E5', 'G#2', 'F#6', 'E-3.F#2', 'C#4', 'F#5', 'B-4', 'C4', 'G5.E5', 'G#2', 'F#6', 'E-3.F#2', 'C#4', 'F#5', 'B-4', 'C4', 'G5.E5']\n"
          ],
          "name": "stdout"
        }
      ]
    },
    {
      "cell_type": "code",
      "metadata": {
        "id": "TAMN7goj_Odf"
      },
      "source": [
        "pattern = network_input[start]\n"
      ],
      "execution_count": 95,
      "outputs": []
    },
    {
      "cell_type": "code",
      "metadata": {
        "id": "7VgLHkFWm1WG"
      },
      "source": [
        "!pip install midiutil"
      ],
      "execution_count": null,
      "outputs": []
    },
    {
      "cell_type": "code",
      "metadata": {
        "id": "7A1P12rm31aJ"
      },
      "source": [
        "!pip install music21"
      ],
      "execution_count": null,
      "outputs": []
    },
    {
      "cell_type": "code",
      "metadata": {
        "id": "iUzIigcL84Sb"
      },
      "source": [
        "def pitch_to_midi_number(sequence, pattern):\n",
        "    modi_pattern=[int_to_note[round(pattern[i][0]*float(n_vocab))] for i in range(len(pattern))]\n",
        "    print(modi_pattern)\n",
        "    full_seq=modi_pattern+sequence\n",
        "    print(full_seq)\n",
        "    midi_notes = []\n",
        "    for p in full_seq:\n",
        "        if ('.' in p):\n",
        "            notes_in_chord = p.split('.')\n",
        "            notes = []\n",
        "            for current_note in notes_in_chord:\n",
        "                notes.append(pitch.Pitch(current_note).midi)\n",
        "            midi_notes.append(notes)\n",
        "        else:\n",
        "            midi_notes.append(pitch.Pitch(p).midi)\n",
        "    return midi_notes"
      ],
      "execution_count": 96,
      "outputs": []
    },
    {
      "cell_type": "code",
      "metadata": {
        "id": "HNJKzccaddlI",
        "colab": {
          "base_uri": "https://localhost:8080/"
        },
        "outputId": "671ca026-2c32-4604-d4fd-c58924e3daa0"
      },
      "source": [
        "from midiutil import MIDIFile\n",
        "from music21 import *\n",
        "\n",
        "degrees  = pitch_to_midi_number(prediction_output, pattern)  # MIDI note number\n",
        "track    = 0\n",
        "channel  = 0\n",
        "time     = 0    # In beats\n",
        "duration = 1    # In beats\n",
        "tempo    = 100   # In BPM\n",
        "volume   = 100  # 0-127, as per the MIDI standard\n",
        "\n",
        "MyMIDI = MIDIFile(1)  # One track, defaults to format 1 (tempo track is created\n",
        "                      # automatically)\n",
        "MyMIDI.addTempo(track, time, tempo)\n",
        "\n",
        "for i, pitch in enumerate(degrees):\n",
        "    if type(pitch) is list:\n",
        "        for p in pitch:\n",
        "            MyMIDI.addNote(track, channel, p, time + i, duration, volume)\n",
        "    else:\n",
        "        MyMIDI.addNote(track, channel, pitch, time + i, duration, volume)\n",
        "\n",
        "with open(\"major-scale.mid\", \"wb\") as output_file:\n",
        "    MyMIDI.writeFile(output_file)"
      ],
      "execution_count": 97,
      "outputs": [
        {
          "output_type": "stream",
          "text": [
            "['E-3.F#2', 'E-2.F#1', 'F#5', 'B-4', 'C4', 'G5.E5', 'G#2', 'F#6', 'E-3.F#2', 'C#4']\n",
            "['E-3.F#2', 'E-2.F#1', 'F#5', 'B-4', 'C4', 'G5.E5', 'G#2', 'F#6', 'E-3.F#2', 'C#4', 'F#5', 'G#5', 'C4', 'G5.E5', 'G#2', 'F#6', 'E-3.F#2', 'C#4', 'F#5', 'B-4', 'C4', 'G5.E5', 'G#2', 'F#6', 'E-3.F#2', 'C#4', 'F#5', 'B-4', 'C4', 'G5.E5']\n"
          ],
          "name": "stdout"
        }
      ]
    }
  ]
}