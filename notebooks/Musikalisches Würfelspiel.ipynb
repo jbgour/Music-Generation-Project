{
 "cells": [
  {
   "cell_type": "markdown",
   "metadata": {},
   "source": [
    "# Mozart.MusikalischesWurfelspiel.py\n",
    "\n",
    "This program generates an excerpt of Mozart's \"Musikalisches\n",
    "Wurfelspiel\" (aka Mozart's Dice Game). It demonstrates how\n",
    "randomness may be sieved (harnessed) to produce aesthetic results.\n",
    "\n",
    "See Schwanauer, S, and D Levitt. 1993. Appendix, in Machine Models\n",
    "of Music. Cambridge, MA: MIT Press, pp. 533-538.\n",
    "\n",
    "The original has 16 measures with 11 choices per measure.\n",
    "This excerpt is a simplified form. In this excerpt,\n",
    "musical material is selected from this matrix:\n",
    "\n",
    "I II III IV\n",
    "96 6 141 30\n",
    "32 17 158 5\n",
    "40\n",
    "\n",
    "Columns represent alternatives for a measure. The composer throws\n",
    "dice to select an alternative (choice) from first column.\n",
    "Then, connects it with the choice from second column, and so on.\n",
    "\n"
   ]
  },
  {
   "cell_type": "code",
   "execution_count": 2,
   "metadata": {},
   "outputs": [
    {
     "name": "stdout",
     "output_type": "stream",
     "text": [
      "Collecting music\n",
      "  Downloading music-0.7b0.tar.gz (47 kB)\n",
      "\u001b[K     |████████████████████████████████| 47 kB 2.3 MB/s eta 0:00:011\n",
      "\u001b[?25hRequirement already satisfied: numpy in /Users/jean-baptistegourlet/opt/anaconda3/envs/ml37/lib/python3.7/site-packages (from music) (1.19.4)\n",
      "Requirement already satisfied: scipy in /Users/jean-baptistegourlet/opt/anaconda3/envs/ml37/lib/python3.7/site-packages (from music) (1.2.1)\n",
      "Requirement already satisfied: termcolor in /Users/jean-baptistegourlet/opt/anaconda3/envs/ml37/lib/python3.7/site-packages (from music) (1.1.0)\n",
      "Requirement already satisfied: matplotlib in /Users/jean-baptistegourlet/opt/anaconda3/envs/ml37/lib/python3.7/site-packages (from music) (3.3.3)\n",
      "Collecting colorama\n",
      "  Using cached colorama-0.4.4-py2.py3-none-any.whl (16 kB)\n",
      "Requirement already satisfied: cycler>=0.10 in /Users/jean-baptistegourlet/opt/anaconda3/envs/ml37/lib/python3.7/site-packages (from matplotlib->music) (0.10.0)\n",
      "Requirement already satisfied: pillow>=6.2.0 in /Users/jean-baptistegourlet/opt/anaconda3/envs/ml37/lib/python3.7/site-packages (from matplotlib->music) (8.1.0)\n",
      "Requirement already satisfied: pyparsing!=2.0.4,!=2.1.2,!=2.1.6,>=2.0.3 in /Users/jean-baptistegourlet/opt/anaconda3/envs/ml37/lib/python3.7/site-packages (from matplotlib->music) (2.4.7)\n",
      "Requirement already satisfied: python-dateutil>=2.1 in /Users/jean-baptistegourlet/opt/anaconda3/envs/ml37/lib/python3.7/site-packages (from matplotlib->music) (2.8.1)\n",
      "Requirement already satisfied: kiwisolver>=1.0.1 in /Users/jean-baptistegourlet/opt/anaconda3/envs/ml37/lib/python3.7/site-packages (from matplotlib->music) (1.3.1)\n",
      "Requirement already satisfied: numpy in /Users/jean-baptistegourlet/opt/anaconda3/envs/ml37/lib/python3.7/site-packages (from music) (1.19.4)\n",
      "Requirement already satisfied: six in /Users/jean-baptistegourlet/opt/anaconda3/envs/ml37/lib/python3.7/site-packages (from cycler>=0.10->matplotlib->music) (1.15.0)\n",
      "Requirement already satisfied: six in /Users/jean-baptistegourlet/opt/anaconda3/envs/ml37/lib/python3.7/site-packages (from cycler>=0.10->matplotlib->music) (1.15.0)\n",
      "Requirement already satisfied: numpy in /Users/jean-baptistegourlet/opt/anaconda3/envs/ml37/lib/python3.7/site-packages (from music) (1.19.4)\n",
      "Collecting sympy\n",
      "  Downloading sympy-1.7.1-py3-none-any.whl (5.9 MB)\n",
      "\u001b[K     |████████████████████████████████| 5.9 MB 6.3 MB/s eta 0:00:01\n",
      "\u001b[?25hCollecting mpmath>=0.19\n",
      "  Downloading mpmath-1.2.1-py3-none-any.whl (532 kB)\n",
      "\u001b[K     |████████████████████████████████| 532 kB 11.2 MB/s eta 0:00:01\n",
      "\u001b[?25hBuilding wheels for collected packages: music\n",
      "  Building wheel for music (setup.py) ... \u001b[?25ldone\n",
      "\u001b[?25h  Created wheel for music: filename=music-0.7b0-py3-none-any.whl size=45328 sha256=ff0efa82167ef18a49bf5b5289ccfa0c04d221cd265064e16f044798bc22aef7\n",
      "  Stored in directory: /Users/jean-baptistegourlet/Library/Caches/pip/wheels/0d/b9/98/68c322b5c6ffa81b40645a392d89291793bcf253b0da589a89\n",
      "Successfully built music\n",
      "Installing collected packages: mpmath, sympy, colorama, music\n",
      "Successfully installed colorama-0.4.4 mpmath-1.2.1 music-0.7b0 sympy-1.7.1\n"
     ]
    }
   ],
   "source": [
    "!pip install music"
   ]
  },
  {
   "cell_type": "code",
   "execution_count": 7,
   "metadata": {
    "scrolled": true
   },
   "outputs": [
    {
     "ename": "TypeError",
     "evalue": "'float' object cannot be interpreted as an integer",
     "output_type": "error",
     "traceback": [
      "\u001b[0;31m---------------------------------------------------------------------------\u001b[0m",
      "\u001b[0;31mTypeError\u001b[0m                                 Traceback (most recent call last)",
      "\u001b[0;32m<ipython-input-7-4e5e82ad3a33>\u001b[0m in \u001b[0;36m<module>\u001b[0;34m\u001b[0m\n\u001b[0;32m----> 1\u001b[0;31m \u001b[0;32mimport\u001b[0m \u001b[0mmusic\u001b[0m\u001b[0;34m\u001b[0m\u001b[0;34m\u001b[0m\u001b[0m\n\u001b[0m\u001b[1;32m      2\u001b[0m \u001b[0;32mfrom\u001b[0m \u001b[0mrandom\u001b[0m \u001b[0;32mimport\u001b[0m \u001b[0;34m*\u001b[0m\u001b[0;34m\u001b[0m\u001b[0;34m\u001b[0m\u001b[0m\n",
      "\u001b[0;32m~/opt/anaconda3/envs/ml37/lib/python3.7/site-packages/music/__init__.py\u001b[0m in \u001b[0;36m<module>\u001b[0;34m\u001b[0m\n\u001b[0;32m----> 1\u001b[0;31m \u001b[0;32mfrom\u001b[0m \u001b[0;34m.\u001b[0m\u001b[0mutils\u001b[0m \u001b[0;32mimport\u001b[0m \u001b[0mH\u001b[0m\u001b[0;34m\u001b[0m\u001b[0;34m\u001b[0m\u001b[0m\n\u001b[0m\u001b[1;32m      2\u001b[0m \u001b[0;32mfrom\u001b[0m \u001b[0;34m.\u001b[0m \u001b[0;32mimport\u001b[0m \u001b[0mutils\u001b[0m\u001b[0;34m,\u001b[0m \u001b[0mtables\u001b[0m\u001b[0;34m,\u001b[0m \u001b[0msynths\u001b[0m\u001b[0;34m,\u001b[0m \u001b[0meffects\u001b[0m\u001b[0;34m,\u001b[0m \u001b[0mstructures\u001b[0m\u001b[0;34m,\u001b[0m \u001b[0msinging\u001b[0m\u001b[0;34m,\u001b[0m \u001b[0mcore\u001b[0m\u001b[0;34m\u001b[0m\u001b[0;34m\u001b[0m\u001b[0m\n\u001b[1;32m      3\u001b[0m \u001b[0;32mfrom\u001b[0m \u001b[0;34m.\u001b[0m \u001b[0;32mimport\u001b[0m \u001b[0mlegacy\u001b[0m\u001b[0;34m\u001b[0m\u001b[0;34m\u001b[0m\u001b[0m\n\u001b[1;32m      4\u001b[0m \u001b[0;34m\u001b[0m\u001b[0m\n",
      "\u001b[0;32m~/opt/anaconda3/envs/ml37/lib/python3.7/site-packages/music/utils.py\u001b[0m in \u001b[0;36m<module>\u001b[0;34m\u001b[0m\n\u001b[1;32m      3\u001b[0m \u001b[0;31m# from .functions import *\u001b[0m\u001b[0;34m\u001b[0m\u001b[0;34m\u001b[0m\u001b[0;34m\u001b[0m\u001b[0m\n\u001b[1;32m      4\u001b[0m \u001b[0;32mfrom\u001b[0m \u001b[0mnumbers\u001b[0m \u001b[0;32mimport\u001b[0m \u001b[0mNumber\u001b[0m\u001b[0;34m\u001b[0m\u001b[0;34m\u001b[0m\u001b[0m\n\u001b[0;32m----> 5\u001b[0;31m \u001b[0;32mfrom\u001b[0m \u001b[0;34m.\u001b[0m \u001b[0;32mimport\u001b[0m \u001b[0mcore\u001b[0m\u001b[0;34m\u001b[0m\u001b[0;34m\u001b[0m\u001b[0m\n\u001b[0m\u001b[1;32m      6\u001b[0m \u001b[0;34m\u001b[0m\u001b[0m\n\u001b[1;32m      7\u001b[0m \u001b[0;32mdef\u001b[0m \u001b[0mH\u001b[0m\u001b[0;34m(\u001b[0m\u001b[0;34m*\u001b[0m\u001b[0margs\u001b[0m\u001b[0;34m)\u001b[0m\u001b[0;34m:\u001b[0m\u001b[0;34m\u001b[0m\u001b[0;34m\u001b[0m\u001b[0m\n",
      "\u001b[0;32m~/opt/anaconda3/envs/ml37/lib/python3.7/site-packages/music/core/__init__.py\u001b[0m in \u001b[0;36m<module>\u001b[0;34m\u001b[0m\n\u001b[0;32m----> 1\u001b[0;31m \u001b[0;32mfrom\u001b[0m \u001b[0;34m.\u001b[0m\u001b[0mfunctions\u001b[0m \u001b[0;32mimport\u001b[0m \u001b[0;34m*\u001b[0m\u001b[0;34m\u001b[0m\u001b[0;34m\u001b[0m\u001b[0m\n\u001b[0m\u001b[1;32m      2\u001b[0m \u001b[0;32mfrom\u001b[0m \u001b[0;34m.\u001b[0m\u001b[0mclasses\u001b[0m \u001b[0;32mimport\u001b[0m \u001b[0;34m*\u001b[0m\u001b[0;34m\u001b[0m\u001b[0;34m\u001b[0m\u001b[0m\n\u001b[1;32m      3\u001b[0m \u001b[0;34m\u001b[0m\u001b[0m\n\u001b[1;32m      4\u001b[0m \u001b[0;34m\u001b[0m\u001b[0m\n",
      "\u001b[0;32m~/opt/anaconda3/envs/ml37/lib/python3.7/site-packages/music/core/functions.py\u001b[0m in \u001b[0;36m<module>\u001b[0;34m\u001b[0m\n\u001b[1;32m    273\u001b[0m \u001b[0;34m\u001b[0m\u001b[0m\n\u001b[1;32m    274\u001b[0m \u001b[0;31m# Triangular\u001b[0m\u001b[0;34m\u001b[0m\u001b[0;34m\u001b[0m\u001b[0;34m\u001b[0m\u001b[0m\n\u001b[0;32m--> 275\u001b[0;31m \u001b[0mfoo\u001b[0m \u001b[0;34m=\u001b[0m \u001b[0mn\u001b[0m\u001b[0;34m.\u001b[0m\u001b[0mlinspace\u001b[0m\u001b[0;34m(\u001b[0m\u001b[0;34m-\u001b[0m\u001b[0;36m1\u001b[0m\u001b[0;34m,\u001b[0m \u001b[0;36m1\u001b[0m\u001b[0;34m,\u001b[0m \u001b[0mLt\u001b[0m\u001b[0;34m/\u001b[0m\u001b[0;36m2\u001b[0m\u001b[0;34m,\u001b[0m \u001b[0mendpoint\u001b[0m\u001b[0;34m=\u001b[0m\u001b[0;32mFalse\u001b[0m\u001b[0;34m)\u001b[0m\u001b[0;34m\u001b[0m\u001b[0;34m\u001b[0m\u001b[0m\n\u001b[0m\u001b[1;32m    276\u001b[0m \u001b[0mTr\u001b[0m \u001b[0;34m=\u001b[0m \u001b[0mn\u001b[0m\u001b[0;34m.\u001b[0m\u001b[0mhstack\u001b[0m\u001b[0;34m(\u001b[0m  \u001b[0;34m(\u001b[0m \u001b[0mfoo\u001b[0m\u001b[0;34m,\u001b[0m \u001b[0mfoo\u001b[0m\u001b[0;34m[\u001b[0m\u001b[0;34m:\u001b[0m\u001b[0;34m:\u001b[0m\u001b[0;34m-\u001b[0m\u001b[0;36m1\u001b[0m\u001b[0;34m]\u001b[0m \u001b[0;34m)\u001b[0m   \u001b[0;34m)\u001b[0m\u001b[0;34m\u001b[0m\u001b[0;34m\u001b[0m\u001b[0m\n\u001b[1;32m    277\u001b[0m \u001b[0;34m\u001b[0m\u001b[0m\n",
      "\u001b[0;32m<__array_function__ internals>\u001b[0m in \u001b[0;36mlinspace\u001b[0;34m(*args, **kwargs)\u001b[0m\n",
      "\u001b[0;32m~/opt/anaconda3/envs/ml37/lib/python3.7/site-packages/numpy/core/function_base.py\u001b[0m in \u001b[0;36mlinspace\u001b[0;34m(start, stop, num, endpoint, retstep, dtype, axis)\u001b[0m\n\u001b[1;32m    111\u001b[0m \u001b[0;34m\u001b[0m\u001b[0m\n\u001b[1;32m    112\u001b[0m     \"\"\"\n\u001b[0;32m--> 113\u001b[0;31m     \u001b[0mnum\u001b[0m \u001b[0;34m=\u001b[0m \u001b[0moperator\u001b[0m\u001b[0;34m.\u001b[0m\u001b[0mindex\u001b[0m\u001b[0;34m(\u001b[0m\u001b[0mnum\u001b[0m\u001b[0;34m)\u001b[0m\u001b[0;34m\u001b[0m\u001b[0;34m\u001b[0m\u001b[0m\n\u001b[0m\u001b[1;32m    114\u001b[0m     \u001b[0;32mif\u001b[0m \u001b[0mnum\u001b[0m \u001b[0;34m<\u001b[0m \u001b[0;36m0\u001b[0m\u001b[0;34m:\u001b[0m\u001b[0;34m\u001b[0m\u001b[0;34m\u001b[0m\u001b[0m\n\u001b[1;32m    115\u001b[0m         \u001b[0;32mraise\u001b[0m \u001b[0mValueError\u001b[0m\u001b[0;34m(\u001b[0m\u001b[0;34m\"Number of samples, %s, must be non-negative.\"\u001b[0m \u001b[0;34m%\u001b[0m \u001b[0mnum\u001b[0m\u001b[0;34m)\u001b[0m\u001b[0;34m\u001b[0m\u001b[0;34m\u001b[0m\u001b[0m\n",
      "\u001b[0;31mTypeError\u001b[0m: 'float' object cannot be interpreted as an integer"
     ]
    }
   ],
   "source": [
    "import music\n",
    "from random import *"
   ]
  },
  {
   "cell_type": "code",
   "execution_count": 5,
   "metadata": {},
   "outputs": [
    {
     "ename": "NameError",
     "evalue": "name 'Part' is not defined",
     "output_type": "error",
     "traceback": [
      "\u001b[0;31m---------------------------------------------------------------------------\u001b[0m",
      "\u001b[0;31mNameError\u001b[0m                                 Traceback (most recent call last)",
      "\u001b[0;32m<ipython-input-5-b6857e63a4ae>\u001b[0m in \u001b[0;36m<module>\u001b[0;34m\u001b[0m\n\u001b[1;32m      1\u001b[0m \u001b[0;31m# musical data structure\u001b[0m\u001b[0;34m\u001b[0m\u001b[0;34m\u001b[0m\u001b[0;34m\u001b[0m\u001b[0m\n\u001b[0;32m----> 2\u001b[0;31m \u001b[0mwalzerteil\u001b[0m \u001b[0;34m=\u001b[0m \u001b[0mPart\u001b[0m\u001b[0;34m(\u001b[0m\u001b[0;34m)\u001b[0m \u001b[0;31m# contains a four-measure motif generated\u001b[0m\u001b[0;34m\u001b[0m\u001b[0;34m\u001b[0m\u001b[0m\n\u001b[0m\u001b[1;32m      3\u001b[0m \u001b[0;31m# randomly from the matrix above\u001b[0m\u001b[0;34m\u001b[0m\u001b[0;34m\u001b[0m\u001b[0;34m\u001b[0m\u001b[0m\n\u001b[1;32m      4\u001b[0m \u001b[0;34m\u001b[0m\u001b[0m\n",
      "\u001b[0;31mNameError\u001b[0m: name 'Part' is not defined"
     ]
    }
   ],
   "source": [
    "# musical data structure\n",
    "walzerteil = Part() # contains a four-measure motif generated\n",
    "# randomly from the matrix above\n",
    " "
   ]
  },
  {
   "cell_type": "code",
   "execution_count": null,
   "metadata": {},
   "outputs": [],
   "source": [
    "# measure 1 - create alternatives\n",
    "# choice 96\n",
    "pitches96 = [[C3, E5], C5, G4]\n",
    "durations96 = [EN, EN, EN]\n",
    "choice96 = Phrase()\n",
    "choice96.addNoteList(pitches96, durations96)\n",
    " \n",
    "# choice 32\n",
    "pitches32 = [[C3, E3, G4], C5, E5]\n",
    "durations32 = [EN, EN, EN]\n",
    "choice32 = Phrase()\n",
    "choice32.addNoteList(pitches32, durations32)\n",
    " \n",
    "# choice 40\n",
    "pitches40 = [[C3, E3, C5], B4, C5, E5, G4, C5]\n",
    "durations40 = [SN, SN, SN, SN, SN, SN]\n",
    "choice40 = Phrase()\n",
    "choice40.addNoteList(pitches40, durations40)"
   ]
  },
  {
   "cell_type": "code",
   "execution_count": null,
   "metadata": {},
   "outputs": [],
   "source": [
    "\n",
    " \n",
    "# measure 2 - create alternatives\n",
    "# choice 6 (same as choice 32)\n",
    "choice6 = Phrase()\n",
    "choice6.addNoteList(pitches32, durations32)\n",
    " \n",
    "# choice 17\n",
    "pitches17 = [[E3, G3, C5], G4, C5, E5, G4, C5]\n",
    "durations17 = [SN, SN, SN, SN, SN, SN]\n",
    "choice17 = Phrase()\n",
    "choice17.addNoteList(pitches17, durations17)\n",
    " \n",
    "# measure 3 - create alternatives\n",
    "# choice 141\n",
    "pitches141 = [[B2, G3, D5], E5, F5, D5, [G2, C5], B4]\n",
    "durations141 = [SN, SN, SN, SN, SN, SN]\n",
    "choice141 = Phrase()\n",
    "choice141.addNoteList(pitches141, durations141)\n",
    " \n",
    "# choice 158\n",
    "pitches158 = [[G2, B4], D5, B4, A4, G4]\n",
    "durations158 = [EN, SN, SN, SN, SN]\n",
    "choice158 = Phrase()\n",
    "choice158.addNoteList(pitches158, durations158)\n",
    " \n",
    "# measure 4 - create alternatives\n",
    "# choice 30\n",
    "pitches30 = [[C5, G4, E4, C4, C2]]\n",
    "durations30 = [DQN]\n",
    "choice30 = Phrase()\n",
    "choice30.addNoteList(pitches30, durations30)\n",
    " \n",
    "# choice 5\n",
    "pitches5 = [[C2, C5, G4, E4, C4], [G2, B4], [C2, E4, C5]]\n",
    "durations5 = [SN, SN, QN]\n",
    "choice5 = Phrase()\n",
    "choice5.addNoteList(pitches5, durations5)\n",
    " \n",
    "# roll the dice!!!\n",
    "measure1 = choice([choice96, choice32, choice40])\n",
    "measure2 = choice([choice6, choice17])\n",
    "measure3 = choice([choice141, choice158])\n",
    "measure4 = choice([choice30, choice5])\n",
    " \n",
    "# connect the random measures into a waltz excerpt\n",
    "walzerteil.addPhrase(measure1)\n",
    "walzerteil.addPhrase(measure2)\n",
    "walzerteil.addPhrase(measure3)\n",
    "walzerteil.addPhrase(measure4)\n",
    " \n",
    "# view and play randomly generated waltz excerpt\n",
    "View.sketch(walzerteil)\n",
    "Play.midi(walzerteil)"
   ]
  }
 ],
 "metadata": {
  "kernelspec": {
   "display_name": "Python 3",
   "language": "python",
   "name": "python3"
  },
  "language_info": {
   "codemirror_mode": {
    "name": "ipython",
    "version": 3
   },
   "file_extension": ".py",
   "mimetype": "text/x-python",
   "name": "python",
   "nbconvert_exporter": "python",
   "pygments_lexer": "ipython3",
   "version": "3.7.9"
  }
 },
 "nbformat": 4,
 "nbformat_minor": 4
}
