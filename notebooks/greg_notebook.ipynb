{
 "metadata": {
  "language_info": {
   "codemirror_mode": {
    "name": "ipython",
    "version": 3
   },
   "file_extension": ".py",
   "mimetype": "text/x-python",
   "name": "python",
   "nbconvert_exporter": "python",
   "pygments_lexer": "ipython3",
   "version": "3.8.5-final"
  },
  "orig_nbformat": 2,
  "kernelspec": {
   "name": "python3",
   "display_name": "Python 3.8.5 64-bit ('DL38': conda)",
   "metadata": {
    "interpreter": {
     "hash": "530a53f7140c46f1589e3a4a7d0988f56aac0d0a454da62694c977a1dc6f5a8a"
    }
   }
  }
 },
 "nbformat": 4,
 "nbformat_minor": 2,
 "cells": [
  {
   "cell_type": "code",
   "execution_count": 1,
   "metadata": {},
   "outputs": [],
   "source": [
    "from music21 import converter, instrument, note, chord\n",
    "import glob\n",
    "import pickle\n",
    "import pandas as pd\n",
    "\n",
    "notes = []\n",
    "log = []"
   ]
  },
  {
   "cell_type": "code",
   "execution_count": 13,
   "metadata": {
    "tags": []
   },
   "outputs": [
    {
     "output_type": "stream",
     "name": "stdout",
     "text": [
      "list\n",
      "list\n",
      "list\n",
      "list\n",
      "list\n",
      "list\n",
      "list\n",
      "list\n",
      "list\n",
      "list\n",
      "8892971\n"
     ]
    }
   ],
   "source": [
    "annees=[2002, 2004, 2006, 2008, 2009, 2011, 2013, 2015, 2017, 2018]\n",
    "notes=[]\n",
    "for x in annees:\n",
    "    notesAnnees=pd.read_pickle(r'../data/results/notes_'+str(x))\n",
    "    notes+=notesAnnees\n",
    "\n",
    "print(len(notes))"
   ]
  },
  {
   "cell_type": "code",
   "execution_count": null,
   "metadata": {},
   "outputs": [],
   "source": []
  }
 ]
}