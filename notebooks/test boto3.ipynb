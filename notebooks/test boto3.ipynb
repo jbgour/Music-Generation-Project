{
 "cells": [
  {
   "cell_type": "code",
   "execution_count": null,
   "metadata": {},
   "outputs": [],
   "source": [
    "import boto3\n",
    "\n",
    "BUCKET_NAME = 'music-generation-data'\n",
    "\n",
    "# enter authentication credentials\n",
    "s3 = boto3.resource('s3', aws_access_key_id = 'ENTER YOUR ACCESS KEY', \n",
    "                          aws_secret_access_key= 'ENTER YOUR SECRET KEY')"
   ]
  }
 ],
 "metadata": {
  "kernelspec": {
   "display_name": "Python 3",
   "language": "python",
   "name": "python3"
  },
  "language_info": {
   "codemirror_mode": {
    "name": "ipython",
    "version": 3
   },
   "file_extension": ".py",
   "mimetype": "text/x-python",
   "name": "python",
   "nbconvert_exporter": "python",
   "pygments_lexer": "ipython3",
   "version": "3.7.9"
  }
 },
 "nbformat": 4,
 "nbformat_minor": 4
}