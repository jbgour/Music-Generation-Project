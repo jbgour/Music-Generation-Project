{
 "cells": [
  {
   "cell_type": "code",
   "execution_count": 1,
   "metadata": {
    "scrolled": true
   },
   "outputs": [],
   "source": [
    "\n",
    "import pandas as pd\n",
    "import numpy\n",
    "from keras.models import Sequential\n",
    "from keras.layers import Dense\n",
    "from keras.layers import Dropout\n",
    "from keras.layers import LSTM\n",
    "from keras.layers import Activation\n",
    "from keras.layers import BatchNormalization as BatchNorm\n",
    "from keras.utils import np_utils\n",
    "from keras.callbacks import ModelCheckpoint\n",
    "\n",
    "\n",
    "def prepare_sequences(notes, n_vocab, sequence_length = 100):\n",
    "    \"\"\" Prepare the sequences used by the Neural Network \"\"\"\n",
    "    sequence_length = sequence_length\n",
    "\n",
    "    # get all pitch names\n",
    "    pitchnames = sorted(set(item for item in notes))\n",
    "\n",
    "    # create a dictionary to map pitches to integers\n",
    "    note_to_int = dict((note, number)\n",
    "                       for number, note in enumerate(pitchnames))\n",
    "\n",
    "    network_input = []\n",
    "    network_output = []\n",
    "\n",
    "    # create input sequences and the corresponding outputs\n",
    "    for i in range(0, len(notes) - sequence_length, 1):\n",
    "        sequence_in = notes[i:i + sequence_length]\n",
    "        sequence_out = notes[i + sequence_length]\n",
    "        network_input.append([note_to_int[char] for char in sequence_in])\n",
    "        network_output.append(note_to_int[sequence_out])\n",
    "\n",
    "    n_patterns = len(network_input)\n",
    "\n",
    "    # reshape the input into a format compatible with LSTM layers\n",
    "    network_input = numpy.reshape(\n",
    "        network_input, (n_patterns, sequence_length, 1))\n",
    "    # normalize input\n",
    "    network_input = network_input / float(n_vocab)\n",
    "\n",
    "    network_output = np_utils.to_categorical(network_output)\n",
    "\n",
    "    return (network_input, network_output)\n",
    "\n",
    "\n",
    "def create_network(network_input, n_vocab):\n",
    "    \"\"\" create the structure of the neural network \"\"\"\n",
    "    model = Sequential()\n",
    "    model.add(LSTM(\n",
    "        256,\n",
    "        input_shape=(network_input.shape[1], network_input.shape[2]),\n",
    "        recurrent_dropout=0.3,\n",
    "        return_sequences=True\n",
    "    ))\n",
    "    model.add(LSTM(512, return_sequences=True))\n",
    "    model.add(Dropout(0.3))\n",
    "    model.add(LSTM(256))\n",
    "    model.add(Dense(256))\n",
    "    model.add(Dropout(0.3))\n",
    "    model.add(Dense(n_vocab))\n",
    "    model.add(Activation('softmax'))\n",
    "    model.compile(loss='categorical_crossentropy', optimizer='rmsprop')\n",
    "\n",
    "    return model\n",
    "\n",
    "\n",
    "def train(model, network_input, network_output, epochs=2, batch_size=128):\n",
    "    \"\"\" train the neural network \"\"\"\n",
    "    filepath = \"weights-improvement-{epoch:02d}-{loss:.4f}-bigger.hdf5\"\n",
    "    checkpoint = ModelCheckpoint(\n",
    "        filepath,\n",
    "        monitor='loss',\n",
    "        verbose=0,\n",
    "        save_best_only=True,\n",
    "        mode='min'\n",
    "    )\n",
    "    callbacks_list = [checkpoint]\n",
    "\n",
    "    model.fit(network_input, network_output, epochs=epochs,\n",
    "              batch_size=batch_size, callbacks=callbacks_list)\n",
    "\n",
    "\n"
   ]
  },
  {
   "cell_type": "code",
   "execution_count": 2,
   "metadata": {},
   "outputs": [],
   "source": [
    "notes = []\n",
    "log = []\n",
    "\n",
    "annees = [2002]\n",
    "notes_source = []\n",
    "for x in annees:\n",
    "    notesAnnees = pd.read_pickle(r'../data/results/notes_' + str(x))\n",
    "    notes_source += notesAnnees\n",
    "notes_source = notes_source[1000:2000]\n"
   ]
  },
  {
   "cell_type": "markdown",
   "metadata": {
    "pycharm": {
     "name": "#%% md\n"
    }
   },
   "source": [
    "# test avec entrée = toujours la même notes"
   ]
  },
  {
   "cell_type": "code",
   "execution_count": 16,
   "metadata": {},
   "outputs": [
    {
     "name": "stdout",
     "output_type": "stream",
     "text": [
      "['G#2', 'G#2', 'G#2', 'G#2', 'G#2', 'G#2', 'G#2', 'G#2', 'G#2', 'G#2']\n"
     ]
    }
   ],
   "source": [
    "notes = [notes_source[0]]*1000\n",
    "n_vocab = len(set(notes))\n",
    "print(notes[0:10])"
   ]
  },
  {
   "cell_type": "code",
   "execution_count": 17,
   "metadata": {},
   "outputs": [
    {
     "name": "stdout",
     "output_type": "stream",
     "text": [
      "creating inputs\n",
      "creating model for training\n",
      "training model\n",
      "Epoch 1/2\n",
      "8/8 [==============================] - 16s 1s/step - loss: 0.0000e+00\n",
      "Epoch 2/2\n",
      "8/8 [==============================] - 12s 1s/step - loss: 0.0000e+00\n",
      "model trained\n"
     ]
    }
   ],
   "source": [
    "print('creating inputs')\n",
    "network_input, network_output = prepare_sequences(notes, n_vocab)\n",
    "\n",
    "print('creating model for training')\n",
    "model = create_network(network_input, n_vocab)\n",
    "\n",
    "print('training model')\n",
    "train(model, network_input, network_output)\n",
    "\n",
    "print('model trained')"
   ]
  },
  {
   "cell_type": "code",
   "execution_count": 18,
   "metadata": {},
   "outputs": [
    {
     "name": "stdout",
     "output_type": "stream",
     "text": [
      "generating notes\n",
      "['G#2', 'G#2', 'G#2', 'G#2', 'G#2', 'G#2', 'G#2', 'G#2', 'G#2', 'G#2']\n"
     ]
    }
   ],
   "source": [
    "print('generating notes')\n",
    "start = numpy.random.randint(0, len(network_input)-1)\n",
    "int_to_note = dict((number, note) for number, note in enumerate(set(notes)))\n",
    "pattern = network_input[start]\n",
    "prediction_output = []\n",
    "# generate 10 notes\n",
    "for note_index in range(10):\n",
    "    prediction_input = numpy.reshape(pattern, (1, len(pattern), 1))\n",
    "    prediction_input = prediction_input / float(n_vocab)\n",
    "    prediction = model.predict(prediction_input, verbose=0)\n",
    "    index = numpy.argmax(prediction)\n",
    "    result = int_to_note[index]\n",
    "    prediction_output.append(result)\n",
    "    pattern = numpy.append(pattern,index)\n",
    "    pattern = pattern[1:len(pattern)]\n",
    "    \n",
    "print(prediction_output)"
   ]
  },
  {
   "cell_type": "markdown",
   "metadata": {},
   "source": [
    "conclusion: avec toujours la même note d'entrée, on renvoie la même en sortie: ouf!"
   ]
  },
  {
   "cell_type": "markdown",
   "metadata": {
    "pycharm": {
     "name": "#%% md\n"
    }
   },
   "source": [
    "# test avec entrée = alternance de 2 notes\n"
   ]
  },
  {
   "cell_type": "code",
   "execution_count": 3,
   "metadata": {},
   "outputs": [
    {
     "name": "stdout",
     "output_type": "stream",
     "text": [
      "['G#2', 'G2', 'G#2', 'G2', 'G#2', 'G2', 'G#2', 'G2', 'G#2', 'G2']\n"
     ]
    }
   ],
   "source": [
    "notes = notes_source[0:2]*5000\n",
    "n_vocab = len(set(notes))\n",
    "print(notes[0:10])"
   ]
  },
  {
   "cell_type": "code",
   "execution_count": 4,
   "metadata": {},
   "outputs": [
    {
     "name": "stdout",
     "output_type": "stream",
     "text": [
      "creating inputs\n",
      "creating model for training\n",
      "training model\n",
      "Epoch 1/2\n",
      "78/78 [==============================] - 149s 2s/step - loss: 0.7048\n",
      "Epoch 2/2\n",
      "78/78 [==============================] - 137s 2s/step - loss: 0.6935\n",
      "model trained\n"
     ]
    }
   ],
   "source": [
    "print('creating inputs')\n",
    "network_input, network_output = prepare_sequences(notes, n_vocab)\n",
    "\n",
    "print('creating model for training')\n",
    "model = create_network(network_input, n_vocab)\n",
    "\n",
    "print('training model')\n",
    "train(model, network_input, network_output)\n",
    "\n",
    "print('model trained')"
   ]
  },
  {
   "cell_type": "code",
   "execution_count": null,
   "metadata": {
    "pycharm": {
     "name": "#%%\n"
    }
   },
   "outputs": [],
   "source": [
    "print('generating notes')\n",
    "start = numpy.random.randint(0, len(network_input)-1)\n",
    "int_to_note = dict((number, note) for number, note in enumerate(set(notes)))\n",
    "pattern = network_input[start]\n",
    "prediction_output = []\n",
    "# generate 10 notes\n",
    "for note_index in range(10):\n",
    "    prediction_input = numpy.reshape(pattern, (1, len(pattern), 1))\n",
    "    prediction = model.predict(prediction_input, verbose=0)\n",
    "    index = numpy.argmax(prediction)\n",
    "    result = int_to_note[index]\n",
    "    prediction_output.append(result)\n",
    "    pattern = numpy.append(pattern,index/ float(n_vocab))\n",
    "    pattern = pattern[1:len(pattern)]\n",
    "    \n",
    "print(prediction_output)"
   ]
  },
  {
   "cell_type": "markdown",
   "metadata": {
    "pycharm": {
     "name": "#%% md\n"
    }
   },
   "source": [
    "conclusion : il renvoie encore la même note: quel idiot!"
   ]
  },
  {
   "cell_type": "markdown",
   "metadata": {
    "pycharm": {
     "name": "#%% md\n"
    }
   },
   "source": [
    "tâchons de comprendre pourquoi..."
   ]
  },
  {
   "cell_type": "markdown",
   "metadata": {
    "pycharm": {
     "name": "#%% md\n"
    }
   },
   "source": [
    "Et si c'était les epochs qui sont pas assez nombreux? \n",
    "\n",
    "On va tester pour 40 au lieu de 2, toutes choses étant égales par ailleurs"
   ]
  },
  {
   "cell_type": "code",
   "execution_count": 96,
   "metadata": {},
   "outputs": [
    {
     "name": "stdout",
     "output_type": "stream",
     "text": [
      "training model\n",
      "Epoch 1/10\n",
      "8/8 [==============================] - 12s 2s/step - loss: 0.6936\n",
      "Epoch 2/10\n",
      "8/8 [==============================] - 13s 2s/step - loss: 0.6951\n",
      "Epoch 3/10\n",
      "8/8 [==============================] - 12s 1s/step - loss: 0.6947\n",
      "Epoch 4/10\n",
      "8/8 [==============================] - 13s 2s/step - loss: 0.6952\n",
      "Epoch 5/10\n",
      "8/8 [==============================] - 13s 2s/step - loss: 0.6974\n",
      "Epoch 6/10\n",
      "8/8 [==============================] - 13s 2s/step - loss: 1.0045\n",
      "Epoch 7/10\n",
      "8/8 [==============================] - 12s 1s/step - loss: 0.6947\n",
      "Epoch 8/10\n",
      "8/8 [==============================] - 12s 1s/step - loss: 0.6947\n",
      "Epoch 9/10\n",
      "8/8 [==============================] - 12s 1s/step - loss: 0.6963\n",
      "Epoch 10/10\n",
      "8/8 [==============================] - 12s 1s/step - loss: 0.7354\n",
      "model trained\n"
     ]
    }
   ],
   "source": [
    "print('training model')\n",
    "train(model, network_input, network_output, epochs=10, batch_size=128)\n",
    "\n",
    "print('model trained')"
   ]
  },
  {
   "cell_type": "code",
   "execution_count": 100,
   "metadata": {
    "pycharm": {
     "name": "#%%\n"
    }
   },
   "outputs": [
    {
     "name": "stdout",
     "output_type": "stream",
     "text": [
      "generating notes\n",
      "['G2', 'G#2', 'G2', 'G#2', 'G2', 'G#2', 'G2', 'G#2', 'G2', 'G#2']\n"
     ]
    }
   ],
   "source": [
    "print('generating notes')\n",
    "start = numpy.random.randint(0, len(network_input)-1)\n",
    "int_to_note = dict((number, note) for number, note in enumerate(set(notes)))\n",
    "pattern = network_input[start]\n",
    "prediction_output = []\n",
    "# generate 10 notes\n",
    "for note_index in range(10):\n",
    "    prediction_input = numpy.reshape(pattern, (1, len(pattern), 1))\n",
    "    prediction = model.predict(prediction_input, verbose=0)\n",
    "    index = numpy.argmax(prediction)\n",
    "    result = int_to_note[index]\n",
    "    prediction_output.append(result)\n",
    "    pattern = numpy.append(pattern,index/ float(n_vocab))\n",
    "    pattern = pattern[1:len(pattern)]\n",
    "    \n",
    "print(prediction_output)"
   ]
  },
  {
   "cell_type": "markdown",
   "metadata": {
    "pycharm": {
     "name": "#%% md\n"
    }
   },
   "source": [
    "conclusion: c'est pas un pb d'epochs"
   ]
  },
  {
   "cell_type": "markdown",
   "metadata": {
    "pycharm": {
     "name": "#%% md\n"
    }
   },
   "source": [
    "Peut être la sequence length?\n",
    "\n",
    "On va passer à 10..."
   ]
  },
  {
   "cell_type": "code",
   "execution_count": 110,
   "metadata": {},
   "outputs": [
    {
     "name": "stdout",
     "output_type": "stream",
     "text": [
      "creating inputs\n",
      "creating model for training\n",
      "training model\n",
      "Epoch 1/10\n",
      "57/57 [==============================] - 32s 484ms/step - loss: 0.7071\n",
      "Epoch 2/10\n",
      "57/57 [==============================] - 27s 479ms/step - loss: 0.7737\n",
      "Epoch 3/10\n",
      "57/57 [==============================] - 28s 493ms/step - loss: 0.7089\n",
      "Epoch 4/10\n"
     ]
    },
    {
     "ename": "KeyboardInterrupt",
     "evalue": "",
     "output_type": "error",
     "traceback": [
      "\u001B[0;31m---------------------------------------------------------------------------\u001B[0m",
      "\u001B[0;31mKeyboardInterrupt\u001B[0m                         Traceback (most recent call last)",
      "\u001B[0;32m<ipython-input-110-f151b83e33ef>\u001B[0m in \u001B[0;36m<module>\u001B[0;34m\u001B[0m\n\u001B[1;32m      6\u001B[0m \u001B[0;34m\u001B[0m\u001B[0m\n\u001B[1;32m      7\u001B[0m \u001B[0mprint\u001B[0m\u001B[0;34m(\u001B[0m\u001B[0;34m'training model'\u001B[0m\u001B[0;34m)\u001B[0m\u001B[0;34m\u001B[0m\u001B[0;34m\u001B[0m\u001B[0m\n\u001B[0;32m----> 8\u001B[0;31m \u001B[0mtrain\u001B[0m\u001B[0;34m(\u001B[0m\u001B[0mmodel\u001B[0m\u001B[0;34m,\u001B[0m \u001B[0mnetwork_input\u001B[0m\u001B[0;34m,\u001B[0m \u001B[0mnetwork_output\u001B[0m\u001B[0;34m,\u001B[0m \u001B[0mepochs\u001B[0m\u001B[0;34m=\u001B[0m\u001B[0;36m10\u001B[0m\u001B[0;34m,\u001B[0m \u001B[0mbatch_size\u001B[0m\u001B[0;34m=\u001B[0m\u001B[0;36m16\u001B[0m\u001B[0;34m)\u001B[0m\u001B[0;34m\u001B[0m\u001B[0;34m\u001B[0m\u001B[0m\n\u001B[0m\u001B[1;32m      9\u001B[0m \u001B[0;34m\u001B[0m\u001B[0m\n\u001B[1;32m     10\u001B[0m \u001B[0mprint\u001B[0m\u001B[0;34m(\u001B[0m\u001B[0;34m'model trained'\u001B[0m\u001B[0;34m)\u001B[0m\u001B[0;34m\u001B[0m\u001B[0;34m\u001B[0m\u001B[0m\n",
      "\u001B[0;32m<ipython-input-35-02e8092b45be>\u001B[0m in \u001B[0;36mtrain\u001B[0;34m(model, network_input, network_output, epochs, batch_size)\u001B[0m\n\u001B[1;32m     79\u001B[0m \u001B[0;34m\u001B[0m\u001B[0m\n\u001B[1;32m     80\u001B[0m     model.fit(network_input, network_output, epochs=epochs,\n\u001B[0;32m---> 81\u001B[0;31m               batch_size=batch_size, callbacks=callbacks_list)\n\u001B[0m\u001B[1;32m     82\u001B[0m \u001B[0;34m\u001B[0m\u001B[0m\n\u001B[1;32m     83\u001B[0m \u001B[0;34m\u001B[0m\u001B[0m\n",
      "\u001B[0;32m~/opt/anaconda3/envs/ml37/lib/python3.7/site-packages/tensorflow/python/keras/engine/training.py\u001B[0m in \u001B[0;36mfit\u001B[0;34m(self, x, y, batch_size, epochs, verbose, callbacks, validation_split, validation_data, shuffle, class_weight, sample_weight, initial_epoch, steps_per_epoch, validation_steps, validation_batch_size, validation_freq, max_queue_size, workers, use_multiprocessing)\u001B[0m\n\u001B[1;32m   1098\u001B[0m                 _r=1):\n\u001B[1;32m   1099\u001B[0m               \u001B[0mcallbacks\u001B[0m\u001B[0;34m.\u001B[0m\u001B[0mon_train_batch_begin\u001B[0m\u001B[0;34m(\u001B[0m\u001B[0mstep\u001B[0m\u001B[0;34m)\u001B[0m\u001B[0;34m\u001B[0m\u001B[0;34m\u001B[0m\u001B[0m\n\u001B[0;32m-> 1100\u001B[0;31m               \u001B[0mtmp_logs\u001B[0m \u001B[0;34m=\u001B[0m \u001B[0mself\u001B[0m\u001B[0;34m.\u001B[0m\u001B[0mtrain_function\u001B[0m\u001B[0;34m(\u001B[0m\u001B[0miterator\u001B[0m\u001B[0;34m)\u001B[0m\u001B[0;34m\u001B[0m\u001B[0;34m\u001B[0m\u001B[0m\n\u001B[0m\u001B[1;32m   1101\u001B[0m               \u001B[0;32mif\u001B[0m \u001B[0mdata_handler\u001B[0m\u001B[0;34m.\u001B[0m\u001B[0mshould_sync\u001B[0m\u001B[0;34m:\u001B[0m\u001B[0;34m\u001B[0m\u001B[0;34m\u001B[0m\u001B[0m\n\u001B[1;32m   1102\u001B[0m                 \u001B[0mcontext\u001B[0m\u001B[0;34m.\u001B[0m\u001B[0masync_wait\u001B[0m\u001B[0;34m(\u001B[0m\u001B[0;34m)\u001B[0m\u001B[0;34m\u001B[0m\u001B[0;34m\u001B[0m\u001B[0m\n",
      "\u001B[0;32m~/opt/anaconda3/envs/ml37/lib/python3.7/site-packages/tensorflow/python/eager/def_function.py\u001B[0m in \u001B[0;36m__call__\u001B[0;34m(self, *args, **kwds)\u001B[0m\n\u001B[1;32m    826\u001B[0m     \u001B[0mtracing_count\u001B[0m \u001B[0;34m=\u001B[0m \u001B[0mself\u001B[0m\u001B[0;34m.\u001B[0m\u001B[0mexperimental_get_tracing_count\u001B[0m\u001B[0;34m(\u001B[0m\u001B[0;34m)\u001B[0m\u001B[0;34m\u001B[0m\u001B[0;34m\u001B[0m\u001B[0m\n\u001B[1;32m    827\u001B[0m     \u001B[0;32mwith\u001B[0m \u001B[0mtrace\u001B[0m\u001B[0;34m.\u001B[0m\u001B[0mTrace\u001B[0m\u001B[0;34m(\u001B[0m\u001B[0mself\u001B[0m\u001B[0;34m.\u001B[0m\u001B[0m_name\u001B[0m\u001B[0;34m)\u001B[0m \u001B[0;32mas\u001B[0m \u001B[0mtm\u001B[0m\u001B[0;34m:\u001B[0m\u001B[0;34m\u001B[0m\u001B[0;34m\u001B[0m\u001B[0m\n\u001B[0;32m--> 828\u001B[0;31m       \u001B[0mresult\u001B[0m \u001B[0;34m=\u001B[0m \u001B[0mself\u001B[0m\u001B[0;34m.\u001B[0m\u001B[0m_call\u001B[0m\u001B[0;34m(\u001B[0m\u001B[0;34m*\u001B[0m\u001B[0margs\u001B[0m\u001B[0;34m,\u001B[0m \u001B[0;34m**\u001B[0m\u001B[0mkwds\u001B[0m\u001B[0;34m)\u001B[0m\u001B[0;34m\u001B[0m\u001B[0;34m\u001B[0m\u001B[0m\n\u001B[0m\u001B[1;32m    829\u001B[0m       \u001B[0mcompiler\u001B[0m \u001B[0;34m=\u001B[0m \u001B[0;34m\"xla\"\u001B[0m \u001B[0;32mif\u001B[0m \u001B[0mself\u001B[0m\u001B[0;34m.\u001B[0m\u001B[0m_experimental_compile\u001B[0m \u001B[0;32melse\u001B[0m \u001B[0;34m\"nonXla\"\u001B[0m\u001B[0;34m\u001B[0m\u001B[0;34m\u001B[0m\u001B[0m\n\u001B[1;32m    830\u001B[0m       \u001B[0mnew_tracing_count\u001B[0m \u001B[0;34m=\u001B[0m \u001B[0mself\u001B[0m\u001B[0;34m.\u001B[0m\u001B[0mexperimental_get_tracing_count\u001B[0m\u001B[0;34m(\u001B[0m\u001B[0;34m)\u001B[0m\u001B[0;34m\u001B[0m\u001B[0;34m\u001B[0m\u001B[0m\n",
      "\u001B[0;32m~/opt/anaconda3/envs/ml37/lib/python3.7/site-packages/tensorflow/python/eager/def_function.py\u001B[0m in \u001B[0;36m_call\u001B[0;34m(self, *args, **kwds)\u001B[0m\n\u001B[1;32m    853\u001B[0m       \u001B[0;31m# In this case we have created variables on the first call, so we run the\u001B[0m\u001B[0;34m\u001B[0m\u001B[0;34m\u001B[0m\u001B[0;34m\u001B[0m\u001B[0m\n\u001B[1;32m    854\u001B[0m       \u001B[0;31m# defunned version which is guaranteed to never create variables.\u001B[0m\u001B[0;34m\u001B[0m\u001B[0;34m\u001B[0m\u001B[0;34m\u001B[0m\u001B[0m\n\u001B[0;32m--> 855\u001B[0;31m       \u001B[0;32mreturn\u001B[0m \u001B[0mself\u001B[0m\u001B[0;34m.\u001B[0m\u001B[0m_stateless_fn\u001B[0m\u001B[0;34m(\u001B[0m\u001B[0;34m*\u001B[0m\u001B[0margs\u001B[0m\u001B[0;34m,\u001B[0m \u001B[0;34m**\u001B[0m\u001B[0mkwds\u001B[0m\u001B[0;34m)\u001B[0m  \u001B[0;31m# pylint: disable=not-callable\u001B[0m\u001B[0;34m\u001B[0m\u001B[0;34m\u001B[0m\u001B[0m\n\u001B[0m\u001B[1;32m    856\u001B[0m     \u001B[0;32melif\u001B[0m \u001B[0mself\u001B[0m\u001B[0;34m.\u001B[0m\u001B[0m_stateful_fn\u001B[0m \u001B[0;32mis\u001B[0m \u001B[0;32mnot\u001B[0m \u001B[0;32mNone\u001B[0m\u001B[0;34m:\u001B[0m\u001B[0;34m\u001B[0m\u001B[0;34m\u001B[0m\u001B[0m\n\u001B[1;32m    857\u001B[0m       \u001B[0;31m# Release the lock early so that multiple threads can perform the call\u001B[0m\u001B[0;34m\u001B[0m\u001B[0;34m\u001B[0m\u001B[0;34m\u001B[0m\u001B[0m\n",
      "\u001B[0;32m~/opt/anaconda3/envs/ml37/lib/python3.7/site-packages/tensorflow/python/eager/function.py\u001B[0m in \u001B[0;36m__call__\u001B[0;34m(self, *args, **kwargs)\u001B[0m\n\u001B[1;32m   2941\u001B[0m        filtered_flat_args) = self._maybe_define_function(args, kwargs)\n\u001B[1;32m   2942\u001B[0m     return graph_function._call_flat(\n\u001B[0;32m-> 2943\u001B[0;31m         filtered_flat_args, captured_inputs=graph_function.captured_inputs)  # pylint: disable=protected-access\n\u001B[0m\u001B[1;32m   2944\u001B[0m \u001B[0;34m\u001B[0m\u001B[0m\n\u001B[1;32m   2945\u001B[0m   \u001B[0;34m@\u001B[0m\u001B[0mproperty\u001B[0m\u001B[0;34m\u001B[0m\u001B[0;34m\u001B[0m\u001B[0m\n",
      "\u001B[0;32m~/opt/anaconda3/envs/ml37/lib/python3.7/site-packages/tensorflow/python/eager/function.py\u001B[0m in \u001B[0;36m_call_flat\u001B[0;34m(self, args, captured_inputs, cancellation_manager)\u001B[0m\n\u001B[1;32m   1917\u001B[0m       \u001B[0;31m# No tape is watching; skip to running the function.\u001B[0m\u001B[0;34m\u001B[0m\u001B[0;34m\u001B[0m\u001B[0;34m\u001B[0m\u001B[0m\n\u001B[1;32m   1918\u001B[0m       return self._build_call_outputs(self._inference_function.call(\n\u001B[0;32m-> 1919\u001B[0;31m           ctx, args, cancellation_manager=cancellation_manager))\n\u001B[0m\u001B[1;32m   1920\u001B[0m     forward_backward = self._select_forward_and_backward_functions(\n\u001B[1;32m   1921\u001B[0m         \u001B[0margs\u001B[0m\u001B[0;34m,\u001B[0m\u001B[0;34m\u001B[0m\u001B[0;34m\u001B[0m\u001B[0m\n",
      "\u001B[0;32m~/opt/anaconda3/envs/ml37/lib/python3.7/site-packages/tensorflow/python/eager/function.py\u001B[0m in \u001B[0;36mcall\u001B[0;34m(self, ctx, args, cancellation_manager)\u001B[0m\n\u001B[1;32m    558\u001B[0m               \u001B[0minputs\u001B[0m\u001B[0;34m=\u001B[0m\u001B[0margs\u001B[0m\u001B[0;34m,\u001B[0m\u001B[0;34m\u001B[0m\u001B[0;34m\u001B[0m\u001B[0m\n\u001B[1;32m    559\u001B[0m               \u001B[0mattrs\u001B[0m\u001B[0;34m=\u001B[0m\u001B[0mattrs\u001B[0m\u001B[0;34m,\u001B[0m\u001B[0;34m\u001B[0m\u001B[0;34m\u001B[0m\u001B[0m\n\u001B[0;32m--> 560\u001B[0;31m               ctx=ctx)\n\u001B[0m\u001B[1;32m    561\u001B[0m         \u001B[0;32melse\u001B[0m\u001B[0;34m:\u001B[0m\u001B[0;34m\u001B[0m\u001B[0;34m\u001B[0m\u001B[0m\n\u001B[1;32m    562\u001B[0m           outputs = execute.execute_with_cancellation(\n",
      "\u001B[0;32m~/opt/anaconda3/envs/ml37/lib/python3.7/site-packages/tensorflow/python/eager/execute.py\u001B[0m in \u001B[0;36mquick_execute\u001B[0;34m(op_name, num_outputs, inputs, attrs, ctx, name)\u001B[0m\n\u001B[1;32m     58\u001B[0m     \u001B[0mctx\u001B[0m\u001B[0;34m.\u001B[0m\u001B[0mensure_initialized\u001B[0m\u001B[0;34m(\u001B[0m\u001B[0;34m)\u001B[0m\u001B[0;34m\u001B[0m\u001B[0;34m\u001B[0m\u001B[0m\n\u001B[1;32m     59\u001B[0m     tensors = pywrap_tfe.TFE_Py_Execute(ctx._handle, device_name, op_name,\n\u001B[0;32m---> 60\u001B[0;31m                                         inputs, attrs, num_outputs)\n\u001B[0m\u001B[1;32m     61\u001B[0m   \u001B[0;32mexcept\u001B[0m \u001B[0mcore\u001B[0m\u001B[0;34m.\u001B[0m\u001B[0m_NotOkStatusException\u001B[0m \u001B[0;32mas\u001B[0m \u001B[0me\u001B[0m\u001B[0;34m:\u001B[0m\u001B[0;34m\u001B[0m\u001B[0;34m\u001B[0m\u001B[0m\n\u001B[1;32m     62\u001B[0m     \u001B[0;32mif\u001B[0m \u001B[0mname\u001B[0m \u001B[0;32mis\u001B[0m \u001B[0;32mnot\u001B[0m \u001B[0;32mNone\u001B[0m\u001B[0;34m:\u001B[0m\u001B[0;34m\u001B[0m\u001B[0;34m\u001B[0m\u001B[0m\n",
      "\u001B[0;31mKeyboardInterrupt\u001B[0m: "
     ]
    }
   ],
   "source": [
    "print('creating inputs')\n",
    "network_input, network_output = prepare_sequences(notes, n_vocab, sequence_length=100)\n",
    "\n",
    "print('creating model for training')\n",
    "model = create_network(network_input, n_vocab)\n",
    "\n",
    "print('training model')\n",
    "train(model, network_input, network_output, epochs=10, batch_size=128)\n",
    "\n",
    "print('model trained')"
   ]
  },
  {
   "cell_type": "code",
   "execution_count": 108,
   "metadata": {
    "pycharm": {
     "name": "#%%\n"
    },
    "scrolled": false
   },
   "outputs": [
    {
     "name": "stdout",
     "output_type": "stream",
     "text": [
      "generating notes\n",
      "[[[0.5]\n",
      "  [0. ]\n",
      "  [0.5]\n",
      "  [0. ]\n",
      "  [0.5]\n",
      "  [0. ]\n",
      "  [0.5]\n",
      "  [0. ]\n",
      "  [0.5]\n",
      "  [0. ]\n",
      "  [0.5]\n",
      "  [0. ]\n",
      "  [0.5]\n",
      "  [0. ]\n",
      "  [0.5]\n",
      "  [0. ]\n",
      "  [0.5]\n",
      "  [0. ]\n",
      "  [0.5]\n",
      "  [0. ]]]\n",
      "[[9.985313e-06 9.999900e-01]]\n",
      "1\n",
      "G2\n",
      "['G2']\n",
      "[0.5 0.  0.5 0.  0.5 0.  0.5 0.  0.5 0.  0.5 0.  0.5 0.  0.5 0.  0.5 0.\n",
      " 0.5 0.  0.5]\n",
      "[0.  0.5 0.  0.5 0.  0.5 0.  0.5 0.  0.5 0.  0.5 0.  0.5 0.  0.5 0.  0.5\n",
      " 0.  0.5]\n",
      "----\n",
      "[[[0. ]\n",
      "  [0.5]\n",
      "  [0. ]\n",
      "  [0.5]\n",
      "  [0. ]\n",
      "  [0.5]\n",
      "  [0. ]\n",
      "  [0.5]\n",
      "  [0. ]\n",
      "  [0.5]\n",
      "  [0. ]\n",
      "  [0.5]\n",
      "  [0. ]\n",
      "  [0.5]\n",
      "  [0. ]\n",
      "  [0.5]\n",
      "  [0. ]\n",
      "  [0.5]\n",
      "  [0. ]\n",
      "  [0.5]]]\n",
      "[[9.9997783e-01 2.2214997e-05]]\n",
      "0\n",
      "G#2\n",
      "['G2', 'G#2']\n",
      "[0.  0.5 0.  0.5 0.  0.5 0.  0.5 0.  0.5 0.  0.5 0.  0.5 0.  0.5 0.  0.5\n",
      " 0.  0.5 0. ]\n",
      "[0.5 0.  0.5 0.  0.5 0.  0.5 0.  0.5 0.  0.5 0.  0.5 0.  0.5 0.  0.5 0.\n",
      " 0.5 0. ]\n",
      "----\n",
      "[[[0.5]\n",
      "  [0. ]\n",
      "  [0.5]\n",
      "  [0. ]\n",
      "  [0.5]\n",
      "  [0. ]\n",
      "  [0.5]\n",
      "  [0. ]\n",
      "  [0.5]\n",
      "  [0. ]\n",
      "  [0.5]\n",
      "  [0. ]\n",
      "  [0.5]\n",
      "  [0. ]\n",
      "  [0.5]\n",
      "  [0. ]\n",
      "  [0.5]\n",
      "  [0. ]\n",
      "  [0.5]\n",
      "  [0. ]]]\n",
      "[[9.985313e-06 9.999900e-01]]\n",
      "1\n",
      "G2\n",
      "['G2', 'G#2', 'G2']\n",
      "[0.5 0.  0.5 0.  0.5 0.  0.5 0.  0.5 0.  0.5 0.  0.5 0.  0.5 0.  0.5 0.\n",
      " 0.5 0.  0.5]\n",
      "[0.  0.5 0.  0.5 0.  0.5 0.  0.5 0.  0.5 0.  0.5 0.  0.5 0.  0.5 0.  0.5\n",
      " 0.  0.5]\n",
      "----\n",
      "[[[0. ]\n",
      "  [0.5]\n",
      "  [0. ]\n",
      "  [0.5]\n",
      "  [0. ]\n",
      "  [0.5]\n",
      "  [0. ]\n",
      "  [0.5]\n",
      "  [0. ]\n",
      "  [0.5]\n",
      "  [0. ]\n",
      "  [0.5]\n",
      "  [0. ]\n",
      "  [0.5]\n",
      "  [0. ]\n",
      "  [0.5]\n",
      "  [0. ]\n",
      "  [0.5]\n",
      "  [0. ]\n",
      "  [0.5]]]\n",
      "[[9.9997783e-01 2.2214997e-05]]\n",
      "0\n",
      "G#2\n",
      "['G2', 'G#2', 'G2', 'G#2']\n",
      "[0.  0.5 0.  0.5 0.  0.5 0.  0.5 0.  0.5 0.  0.5 0.  0.5 0.  0.5 0.  0.5\n",
      " 0.  0.5 0. ]\n",
      "[0.5 0.  0.5 0.  0.5 0.  0.5 0.  0.5 0.  0.5 0.  0.5 0.  0.5 0.  0.5 0.\n",
      " 0.5 0. ]\n",
      "----\n",
      "[[[0.5]\n",
      "  [0. ]\n",
      "  [0.5]\n",
      "  [0. ]\n",
      "  [0.5]\n",
      "  [0. ]\n",
      "  [0.5]\n",
      "  [0. ]\n",
      "  [0.5]\n",
      "  [0. ]\n",
      "  [0.5]\n",
      "  [0. ]\n",
      "  [0.5]\n",
      "  [0. ]\n",
      "  [0.5]\n",
      "  [0. ]\n",
      "  [0.5]\n",
      "  [0. ]\n",
      "  [0.5]\n",
      "  [0. ]]]\n",
      "[[9.985313e-06 9.999900e-01]]\n",
      "1\n",
      "G2\n",
      "['G2', 'G#2', 'G2', 'G#2', 'G2']\n",
      "[0.5 0.  0.5 0.  0.5 0.  0.5 0.  0.5 0.  0.5 0.  0.5 0.  0.5 0.  0.5 0.\n",
      " 0.5 0.  0.5]\n",
      "[0.  0.5 0.  0.5 0.  0.5 0.  0.5 0.  0.5 0.  0.5 0.  0.5 0.  0.5 0.  0.5\n",
      " 0.  0.5]\n",
      "----\n",
      "[[[0. ]\n",
      "  [0.5]\n",
      "  [0. ]\n",
      "  [0.5]\n",
      "  [0. ]\n",
      "  [0.5]\n",
      "  [0. ]\n",
      "  [0.5]\n",
      "  [0. ]\n",
      "  [0.5]\n",
      "  [0. ]\n",
      "  [0.5]\n",
      "  [0. ]\n",
      "  [0.5]\n",
      "  [0. ]\n",
      "  [0.5]\n",
      "  [0. ]\n",
      "  [0.5]\n",
      "  [0. ]\n",
      "  [0.5]]]\n",
      "[[9.9997783e-01 2.2214997e-05]]\n",
      "0\n",
      "G#2\n",
      "['G2', 'G#2', 'G2', 'G#2', 'G2', 'G#2']\n",
      "[0.  0.5 0.  0.5 0.  0.5 0.  0.5 0.  0.5 0.  0.5 0.  0.5 0.  0.5 0.  0.5\n",
      " 0.  0.5 0. ]\n",
      "[0.5 0.  0.5 0.  0.5 0.  0.5 0.  0.5 0.  0.5 0.  0.5 0.  0.5 0.  0.5 0.\n",
      " 0.5 0. ]\n",
      "----\n",
      "[[[0.5]\n",
      "  [0. ]\n",
      "  [0.5]\n",
      "  [0. ]\n",
      "  [0.5]\n",
      "  [0. ]\n",
      "  [0.5]\n",
      "  [0. ]\n",
      "  [0.5]\n",
      "  [0. ]\n",
      "  [0.5]\n",
      "  [0. ]\n",
      "  [0.5]\n",
      "  [0. ]\n",
      "  [0.5]\n",
      "  [0. ]\n",
      "  [0.5]\n",
      "  [0. ]\n",
      "  [0.5]\n",
      "  [0. ]]]\n",
      "[[9.985313e-06 9.999900e-01]]\n",
      "1\n",
      "G2\n",
      "['G2', 'G#2', 'G2', 'G#2', 'G2', 'G#2', 'G2']\n",
      "[0.5 0.  0.5 0.  0.5 0.  0.5 0.  0.5 0.  0.5 0.  0.5 0.  0.5 0.  0.5 0.\n",
      " 0.5 0.  0.5]\n",
      "[0.  0.5 0.  0.5 0.  0.5 0.  0.5 0.  0.5 0.  0.5 0.  0.5 0.  0.5 0.  0.5\n",
      " 0.  0.5]\n",
      "----\n",
      "[[[0. ]\n",
      "  [0.5]\n",
      "  [0. ]\n",
      "  [0.5]\n",
      "  [0. ]\n",
      "  [0.5]\n",
      "  [0. ]\n",
      "  [0.5]\n",
      "  [0. ]\n",
      "  [0.5]\n",
      "  [0. ]\n",
      "  [0.5]\n",
      "  [0. ]\n",
      "  [0.5]\n",
      "  [0. ]\n",
      "  [0.5]\n",
      "  [0. ]\n",
      "  [0.5]\n",
      "  [0. ]\n",
      "  [0.5]]]\n",
      "[[9.9997783e-01 2.2214997e-05]]\n",
      "0\n",
      "G#2\n",
      "['G2', 'G#2', 'G2', 'G#2', 'G2', 'G#2', 'G2', 'G#2']\n",
      "[0.  0.5 0.  0.5 0.  0.5 0.  0.5 0.  0.5 0.  0.5 0.  0.5 0.  0.5 0.  0.5\n",
      " 0.  0.5 0. ]\n",
      "[0.5 0.  0.5 0.  0.5 0.  0.5 0.  0.5 0.  0.5 0.  0.5 0.  0.5 0.  0.5 0.\n",
      " 0.5 0. ]\n",
      "----\n",
      "[[[0.5]\n",
      "  [0. ]\n",
      "  [0.5]\n",
      "  [0. ]\n",
      "  [0.5]\n",
      "  [0. ]\n",
      "  [0.5]\n",
      "  [0. ]\n",
      "  [0.5]\n",
      "  [0. ]\n",
      "  [0.5]\n",
      "  [0. ]\n",
      "  [0.5]\n",
      "  [0. ]\n",
      "  [0.5]\n",
      "  [0. ]\n",
      "  [0.5]\n",
      "  [0. ]\n",
      "  [0.5]\n",
      "  [0. ]]]\n",
      "[[9.985313e-06 9.999900e-01]]\n",
      "1\n",
      "G2\n",
      "['G2', 'G#2', 'G2', 'G#2', 'G2', 'G#2', 'G2', 'G#2', 'G2']\n",
      "[0.5 0.  0.5 0.  0.5 0.  0.5 0.  0.5 0.  0.5 0.  0.5 0.  0.5 0.  0.5 0.\n",
      " 0.5 0.  0.5]\n",
      "[0.  0.5 0.  0.5 0.  0.5 0.  0.5 0.  0.5 0.  0.5 0.  0.5 0.  0.5 0.  0.5\n",
      " 0.  0.5]\n",
      "----\n",
      "[[[0. ]\n",
      "  [0.5]\n",
      "  [0. ]\n",
      "  [0.5]\n",
      "  [0. ]\n",
      "  [0.5]\n",
      "  [0. ]\n",
      "  [0.5]\n",
      "  [0. ]\n",
      "  [0.5]\n",
      "  [0. ]\n",
      "  [0.5]\n",
      "  [0. ]\n",
      "  [0.5]\n",
      "  [0. ]\n",
      "  [0.5]\n",
      "  [0. ]\n",
      "  [0.5]\n",
      "  [0. ]\n",
      "  [0.5]]]\n",
      "[[9.9997783e-01 2.2214997e-05]]\n",
      "0\n",
      "G#2\n",
      "['G2', 'G#2', 'G2', 'G#2', 'G2', 'G#2', 'G2', 'G#2', 'G2', 'G#2']\n",
      "[0.  0.5 0.  0.5 0.  0.5 0.  0.5 0.  0.5 0.  0.5 0.  0.5 0.  0.5 0.  0.5\n",
      " 0.  0.5 0. ]\n",
      "[0.5 0.  0.5 0.  0.5 0.  0.5 0.  0.5 0.  0.5 0.  0.5 0.  0.5 0.  0.5 0.\n",
      " 0.5 0. ]\n",
      "----\n",
      "['G2', 'G#2', 'G2', 'G#2', 'G2', 'G#2', 'G2', 'G#2', 'G2', 'G#2']\n"
     ]
    }
   ],
   "source": [
    "print('generating notes')\n",
    "start = numpy.random.randint(0, len(network_input)-1)\n",
    "int_to_note = dict((number, note) for number, note in enumerate(set(notes)))\n",
    "pattern = network_input[start]\n",
    "prediction_output = []\n",
    "\n",
    "# generate 10 notes\n",
    "for note_index in range(10):\n",
    "    prediction_input = numpy.reshape(pattern, (1, len(pattern), 1))\n",
    "    print(prediction_input)\n",
    "    prediction = model.predict(prediction_input, verbose=0)\n",
    "    print(prediction)\n",
    "    index = numpy.argmax(prediction)\n",
    "    print(index)\n",
    "    result = int_to_note[index]\n",
    "    print(result)\n",
    "    prediction_output.append(result)\n",
    "    print(prediction_output)\n",
    "    pattern = numpy.append(pattern,index/ float(n_vocab))\n",
    "    print(pattern)\n",
    "    pattern = pattern[1:len(pattern)]\n",
    "    print(pattern)\n",
    "    print(\"----\")\n",
    "\n",
    "print(prediction_output)\n",
    "\n"
   ]
  },
  {
   "cell_type": "markdown",
   "metadata": {},
   "source": [
    "Conclusion: victoire pour le peuple"
   ]
  },
  {
   "cell_type": "code",
   "execution_count": null,
   "metadata": {},
   "outputs": [],
   "source": []
  }
 ],
 "metadata": {
  "kernelspec": {
   "display_name": "Python 3",
   "language": "python",
   "name": "python3"
  },
  "language_info": {
   "codemirror_mode": {
    "name": "ipython",
    "version": 3
   },
   "file_extension": ".py",
   "mimetype": "text/x-python",
   "name": "python",
   "nbconvert_exporter": "python",
   "pygments_lexer": "ipython3",
   "version": "3.7.9"
  }
 },
 "nbformat": 4,
 "nbformat_minor": 1
}